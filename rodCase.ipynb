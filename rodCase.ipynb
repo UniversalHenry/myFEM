{
 "cells": [
  {
   "cell_type": "markdown",
   "metadata": {},
   "source": [
    "# 导入计算库并命名"
   ]
  },
  {
   "cell_type": "markdown",
   "metadata": {},
   "source": [
    "桁架体系有限元计算程序\n",
    "\n",
    "安装环境：\n",
    "\n",
    "- Anaconda\n",
    "- Python 3.8\n",
    "- conda install plotly"
   ]
  },
  {
   "cell_type": "code",
   "execution_count": 1,
   "metadata": {
    "scrolled": true
   },
   "outputs": [
    {
     "name": "stdout",
     "output_type": "stream",
     "text": [
      "Henry Lu's FEM Module 已导入！\n"
     ]
    }
   ],
   "source": [
    "# 自编有限元程序\n",
    "from myFEM import * \n",
    "fileName = 'rodCase'"
   ]
  },
  {
   "cell_type": "markdown",
   "metadata": {},
   "source": [
    "# 数据输入"
   ]
  },
  {
   "cell_type": "code",
   "execution_count": 2,
   "metadata": {},
   "outputs": [
    {
     "name": "stdout",
     "output_type": "stream",
     "text": [
      "一共 8 节点...\n",
      "一共 14 单元...\n",
      "一共 12 约束...\n",
      "一共 2 节点外力...\n",
      "计算问题为 3 维问题...\n"
     ]
    }
   ],
   "source": [
    "fem = FEM( dim = 3,                                                           # 生成问题，可输入问题维度（默认3维）\n",
    "              geometric = dict( X = [[0,0,4,4,0,0,4,4],\n",
    "                                    [4,4,4,4,0,0,0,0],\n",
    "                                    [3,0,0,3,3,0,0,3]]\n",
    "                    ),                                                        # 节点几何数据\n",
    "              unit = dict( rod = dict(ME = [[1,2,3,1,1,2,7,5,5,6,8,8,5,8] ,   # 单元类型\n",
    "                                            [2,3,4,4,3,4,3,2,1,2,4,3,3,2]],               # 桁架单元对应节点 (1-节点数)\n",
    "                                E = [70e9] * 14 ,                                # 桁架单元对应杨氏模量\n",
    "                                A = [0.005] * 14 ,                                # 桁架单元对应截面积\n",
    "                                ),\n",
    "                      ),\n",
    "              constraint = dict(NR = [13,14,15,16,17,18,19,20,21,22,23,24],       # 约束方向（1-维数*节点数)\n",
    "                            DX = [0]*12,                                          # 约束位移\n",
    "                            ),\n",
    "              force = dict(node = [0,0,0,0,0,0,1e5,0,0,1e5,0,0,0,0,0,0,0,0,0,0,0,0,0,0])  # 节点外载荷\n",
    "         )"
   ]
  },
  {
   "cell_type": "markdown",
   "metadata": {},
   "source": [
    "# 生成输入数据报告"
   ]
  },
  {
   "cell_type": "code",
   "execution_count": 3,
   "metadata": {
    "scrolled": false
   },
   "outputs": [
    {
     "ename": "SyntaxError",
     "evalue": "invalid syntax (<ipython-input-3-2ff5ddb7aa8d>, line 6)",
     "output_type": "error",
     "traceback": [
      "\u001b[1;36m  File \u001b[1;32m\"<ipython-input-3-2ff5ddb7aa8d>\"\u001b[1;36m, line \u001b[1;32m6\u001b[0m\n\u001b[1;33m    forceDisplaySize=,\u001b[0m\n\u001b[1;37m                     ^\u001b[0m\n\u001b[1;31mSyntaxError\u001b[0m\u001b[1;31m:\u001b[0m invalid syntax\n"
     ]
    }
   ],
   "source": [
    "fem.inputReport(text=True,\n",
    "                figure=True,\n",
    "                file=fileName+'输入数据.txt',\n",
    "                nodeSize = 1,\n",
    "                lineSize = 1,\n",
    "                forceDisplaySize=,\n",
    "                constraintDisplaySize=1,\n",
    "                opacity=dict(node = 0.3, rod = 0.6, constraint = 1, force = 0.6)\n",
    "               )"
   ]
  },
  {
   "cell_type": "markdown",
   "metadata": {},
   "source": [
    "# 形成结构总刚度矩阵，计算位移、单元内力、单元节点力和约束反力"
   ]
  },
  {
   "cell_type": "code",
   "execution_count": null,
   "metadata": {},
   "outputs": [],
   "source": [
    "fem.solve(showK = False, showResult=False)"
   ]
  },
  {
   "cell_type": "markdown",
   "metadata": {},
   "source": [
    "# 输出结果"
   ]
  },
  {
   "cell_type": "code",
   "execution_count": null,
   "metadata": {
    "scrolled": false
   },
   "outputs": [],
   "source": [
    "fem.resultReport(text=True,\n",
    "                    figure=True,\n",
    "                    file=fileName+'结果数据.txt',\n",
    "                    deformSize = 'auto',\n",
    "                    refDeformSize = 1,\n",
    "                    undeformedDisplay = True,\n",
    "                    nodeSize=1,\n",
    "                    lineSize=1,\n",
    "                    forceDisplaySize=1,\n",
    "                    constraintDisplaySize=1,\n",
    "                    opacity=dict(node = 0.3, rod = 0.6, constraint = 1.0, force = 0.6),\n",
    "                    undeformedOpacity=dict(node = 0.1, rod = 0.2)\n",
    "               )"
   ]
  }
 ],
 "metadata": {
  "kernelspec": {
   "display_name": "Python 3",
   "language": "python",
   "name": "python3"
  },
  "language_info": {
   "codemirror_mode": {
    "name": "ipython",
    "version": 3
   },
   "file_extension": ".py",
   "mimetype": "text/x-python",
   "name": "python",
   "nbconvert_exporter": "python",
   "pygments_lexer": "ipython3",
   "version": "3.8.5"
  },
  "latex_envs": {
   "LaTeX_envs_menu_present": true,
   "autoclose": false,
   "autocomplete": true,
   "bibliofile": "biblio.bib",
   "cite_by": "apalike",
   "current_citInitial": 1,
   "eqLabelWithNumbers": true,
   "eqNumInitial": 1,
   "hotkeys": {
    "equation": "Ctrl-E",
    "itemize": "Ctrl-I"
   },
   "labels_anchors": false,
   "latex_user_defs": false,
   "report_style_numbering": false,
   "user_envs_cfg": false
  },
  "toc": {
   "base_numbering": 1,
   "nav_menu": {},
   "number_sections": true,
   "sideBar": true,
   "skip_h1_title": false,
   "title_cell": "Table of Contents",
   "title_sidebar": "Contents",
   "toc_cell": false,
   "toc_position": {
    "height": "calc(100% - 180px)",
    "left": "10px",
    "top": "150px",
    "width": "334px"
   },
   "toc_section_display": true,
   "toc_window_display": true
  }
 },
 "nbformat": 4,
 "nbformat_minor": 2
}
